{
 "cells": [
  {
   "cell_type": "code",
   "execution_count": 42,
   "metadata": {
    "collapsed": true
   },
   "outputs": [],
   "source": [
    "from time import time\n",
    "import logging\n",
    "\n",
    "import numpy as np\n",
    "import matplotlib.pyplot as plt\n",
    "import pandas as pd\n",
    "\n",
    "from pyspark.sql import SparkSession\n",
    "from pyspark.ml import Pipeline\n",
    "\n",
    "from pyspark.ml.tuning import CrossValidator, ParamGridBuilder\n",
    "\n",
    "from pyspark.ml.feature import VectorAssembler\n",
    "from pyspark.ml.linalg import Vectors\n",
    "from pyspark.ml.feature import StandardScaler\n",
    "\n",
    "from pyspark.sql.functions import udf, col\n",
    "\n",
    "#from pyspark.mllib.evaluation import BinaryClassificationMetrics\n",
    "from pyspark.ml.evaluation import BinaryClassificationEvaluator\n",
    "\n",
    "from pyspark.ml.classification import LogisticRegression, DecisionTreeClassifier, RandomForestClassifier\n",
    "\n",
    "from sklearn import metrics\n"
   ]
  },
  {
   "cell_type": "code",
   "execution_count": 2,
   "metadata": {
    "collapsed": true
   },
   "outputs": [],
   "source": [
    "# spark = SparkSession.builder.master(\"spark://spark-master-01:7077\").enableHiveSupport().getOrCreate()"
   ]
  },
  {
   "cell_type": "code",
   "execution_count": 3,
   "metadata": {},
   "outputs": [
    {
     "name": "stdout",
     "output_type": "stream",
     "text": [
      "+--------+--------------------+-----------+\n",
      "|database|           tableName|isTemporary|\n",
      "+--------+--------------------+-----------+\n",
      "| default|   1retailprediction|      false|\n",
      "| default|            anything|      false|\n",
      "| default|  bestloyalcustomers|      false|\n",
      "| default|               book1|      false|\n",
      "| default|ca_sentence_senti...|      false|\n",
      "| default|             ca_term|      false|\n",
      "| default|churnloyalprediction|      false|\n",
      "| default|            customer|      false|\n",
      "| default| customer_milleneals|      false|\n",
      "| default|   customer_products|      false|\n",
      "| default|          customerdm|      false|\n",
      "| default|           customers|      false|\n",
      "| default|            cw_table|      false|\n",
      "| default|             drivers|      false|\n",
      "| default|               empsk|      false|\n",
      "| default|           got_terms|      false|\n",
      "| default|          got_tweets|      false|\n",
      "| default|            hashtags|      false|\n",
      "| default|          loyalchurn|      false|\n",
      "| default|loyalchurn_traintest|      false|\n",
      "+--------+--------------------+-----------+\n",
      "only showing top 20 rows\n",
      "\n"
     ]
    }
   ],
   "source": [
    "spark.sql(\"show tables\").show()"
   ]
  },
  {
   "cell_type": "code",
   "execution_count": 4,
   "metadata": {
    "collapsed": true
   },
   "outputs": [],
   "source": [
    "#df_train =  spark.sql(\"\"\"SELECT ROW_NUM, TrialID, ObsNum, CAST(IsAlert AS DOUBLE) AS label, P1, P2, CAST(P3 AS DOUBLE), P4, P5,\\\n",
    "#    CAST(P6 AS DOUBLE), P7, CAST(P8 AS DOUBLE),  E1, E2, CAST(E3 AS DOUBLE),CAST(E4 AS DOUBLE),\\\n",
    "#    E5, CAST(E6 AS DOUBLE), CAST(E7 AS DOUBLE), CAST(E8 AS DOUBLE), CAST(E9 AS DOUBLE), CAST(E10 AS DOUBLE),\\\n",
    "#    CAST(E11 AS DOUBLE), V1, V2, CAST(V3 AS DOUBLE), V4, CAST(V5 AS DOUBLE), CAST(V6 AS DOUBLE), CAST(V7 AS DOUBLE),\\\n",
    "#    V8, CAST(V9 AS DOUBLE), CAST(V10 AS DOUBLE), V11 \\\n",
    "#    FROM demo3_train_obd_data\"\"\").na.drop()\n",
    "\n",
    "df_train =  spark.sql(\"\"\"SELECT trialid, obsnum, ABS(label-1) as label, P1, P2, P3 , P4, P5,\\\n",
    "    P6 , P7, P8 ,  E1, E2, E3 ,E4 ,\\\n",
    "    E5, E6 , E7 , E8 , E9 , E10 ,\\\n",
    "    E11 , V1, V2, V3 , V4, V5 , V6 , V7 ,\\\n",
    "    V8, V9 , V10 , V11 \\\n",
    "    FROM obd_data_for_train\"\"\").na.drop()\n",
    "\n",
    "\n",
    "#X = obd_train_data.toPandas()"
   ]
  },
  {
   "cell_type": "code",
   "execution_count": 5,
   "metadata": {},
   "outputs": [
    {
     "name": "stdout",
     "output_type": "stream",
     "text": [
      "['label2', 'P1', 'P2', 'P3', 'P5', 'P6', 'P7', 'E1', 'E3', 'E4', 'E5', 'E6', 'E7', 'E8', 'E10', 'E11', 'V1', 'V2', 'V3', 'V4', 'V5', 'V8', 'V11']\n"
     ]
    },
    {
     "data": {
      "text/plain": [
       "<bound method DataFrame.printSchema of DataFrame[trialid: int, obsnum: int, label: double, P1: double, P2: double, P3: int, P4: double, P5: double, P6: int, P7: double, P8: int, E1: double, E2: double, E3: int, E4: int, E5: double, E6: int, E7: int, E8: int, E9: int, E10: int, E11: double, V1: double, V2: double, V3: int, V4: double, V5: int, V6: int, V7: int, V8: double, V9: int, V10: int, V11: double]>"
      ]
     },
     "execution_count": 5,
     "metadata": {},
     "output_type": "execute_result"
    }
   ],
   "source": [
    "# Features to exclude (linear correlations, not required)\n",
    "features_list = [\"TrialID\", \"ObsNum\", \"label2\", \"P1\", \"P2\", \"P3\", \"P4\", \"P5\", \"P6\", \n",
    "    \"P7\", \"P8\", \"E1\", \"E2\", \"E3\", \"E4\", \"E5\", \"E6\", \"E7\", \"E8\", \"E9\", \"E10\", \"E11\", \"V1\", \"V2\", \"V3\",\n",
    "    \"V4\", \"V5\", \"V6\", \"V7\", \"V8\", \"V9\", \"V10\", \"V11\"]\n",
    "\n",
    "features_exclude_list = [\"TrialID\",\"ObsNum\",\"E2\",\"E9\",\"V6\",\"V10\",\"V7\",\"V9\",\"P8\",\"P4\"]\n",
    "\n",
    "for column in features_exclude_list:\n",
    "    features_list.remove(column)\n",
    "print(features_list)\n",
    "\n",
    "df_train.printSchema"
   ]
  },
  {
   "cell_type": "code",
   "execution_count": 6,
   "metadata": {
    "collapsed": true
   },
   "outputs": [],
   "source": [
    "# Assembler of Features\n",
    "assembler = VectorAssembler(\n",
    "    inputCols=['P1', 'P2', 'P3', 'P5', 'P6', 'P7', 'E1',\n",
    "               'E3', 'E4', 'E5', 'E6', 'E7', 'E8', 'E10', 'E11', 'V1', \n",
    "               'V2', 'V3', 'V4', 'V5', 'V8', 'V11'],\n",
    "    outputCol=\"features\")\n",
    "\n",
    "#X = assembler.transform(df_train)\n",
    "\n",
    "#print(X.select(\"features\",\"label\").first())\n"
   ]
  },
  {
   "cell_type": "code",
   "execution_count": 7,
   "metadata": {},
   "outputs": [
    {
     "name": "stdout",
     "output_type": "stream",
     "text": [
      "Defining StandardScaler.\n",
      "done in 0.009s\n"
     ]
    }
   ],
   "source": [
    "print(\"Defining StandardScaler.\")\n",
    "t0 = time()\n",
    "\n",
    "# Create a StandardScaler for the features\n",
    "scaler = StandardScaler(inputCol=\"features\", outputCol=\"scaledFeatures\",\n",
    "                      withStd=True, withMean=False)\n",
    "\n",
    "# Compute summary of statistics by fitting the StandarScaller\n",
    "# scalerModel = scaler.fit(X)\n",
    "\n",
    "# Normalize each feature to have unit standard deviation.\n",
    "# scaledData = scalerModel.transform(X)\n",
    "# print(scaledData.select(\"scaledFeatures\",\"label\").first())\n",
    "print(\"done in %0.3fs\" % (time() - t0))"
   ]
  },
  {
   "cell_type": "code",
   "execution_count": 8,
   "metadata": {
    "collapsed": true
   },
   "outputs": [],
   "source": [
    "# Parameters of CV for Kfold\n",
    "kfold = 5\n",
    "\n",
    "seedParam = 42530"
   ]
  },
  {
   "cell_type": "code",
   "execution_count": 9,
   "metadata": {},
   "outputs": [
    {
     "name": "stdout",
     "output_type": "stream",
     "text": [
      "Train Logistic Regression with CV.\n",
      "done in 71.260s\n"
     ]
    }
   ],
   "source": [
    "# Logistic Regression\n",
    "lr = LogisticRegression(featuresCol=\"scaledFeatures\", labelCol=\"label\", maxIter=10, elasticNetParam=0.8)\n",
    "\n",
    "lr_pipeline = Pipeline(stages=[assembler, scaler, lr])\n",
    "#lr_pipeline = Pipeline(stages=[assembler, scaler, lr])\n",
    "\n",
    "lr_paramGrid = ParamGridBuilder() \\\n",
    "    .addGrid(lr.regParam, [0.1, 0.01]) \\\n",
    "    .build()\n",
    "\n",
    "\n",
    "    \n",
    "cv_lr = CrossValidator(estimator=lr_pipeline,\n",
    "                            estimatorParamMaps=lr_paramGrid,\n",
    "                            evaluator=BinaryClassificationEvaluator(),\n",
    "                            numFolds=kfold)\n",
    "\n",
    "print(\"Train Logistic Regression with CV.\")\n",
    "t0 = time()\n",
    "\n",
    "cv_lrModel = cv_lr.fit(df_train)\n",
    "\n",
    "print(\"done in %0.3fs\" % (time() - t0))"
   ]
  },
  {
   "cell_type": "code",
   "execution_count": 10,
   "metadata": {
    "collapsed": true
   },
   "outputs": [],
   "source": [
    "obd_test_data =  spark.sql(\"\"\"SELECT TrialID, ObsNum, ABS(label-1) AS label, P1, P2, P3, P4, P5, P6, \\\n",
    "    P7, P8, E1, E2, E3, E4, E5, E6, E7, E8, E9, E10, E11, V1, V2, V3, V4, V5, V6, V7, V8, V9, V10, V11 \\\n",
    "    FROM obd_data_for_test\"\"\").na.drop()\n"
   ]
  },
  {
   "cell_type": "code",
   "execution_count": 11,
   "metadata": {},
   "outputs": [
    {
     "data": {
      "text/plain": [
       "Row(TrialID=429, ObsNum=591, label=0.0, P1=31.9833, P2=10.9602, P3=852, P4=70.4225, P5=0.097299, P6=844, P7=71.09, P8=0, E1=0.018, E2=164.282, E3=0, E4=0, E5=0.016001, E6=367, E7=0, E8=0, E9=1, E10=41, E11=23.6, V1=0.0, V2=0.175, V3=496, V4=34.5187, V5=1, V6=631, V7=0, V8=0.0, V9=0, V10=1, V11=16.6102, features=DenseVector([31.9833, 10.9602, 852.0, 0.0973, 844.0, 71.09, 0.018, 0.0, 0.0, 0.016, 367.0, 0.0, 0.0, 41.0, 23.6, 0.0, 0.175, 496.0, 34.5187, 1.0, 0.0, 16.6102]), scaledFeatures=DenseVector([4.2727, 2.9157, 2.7564, 0.2661, 0.3363, 3.8227, 0.0013, 0.0, 0.0, 6.9468, 13.3997, 0.0, 0.0, 2.1724, 4.4971, 0.0, 0.4331, 1.662, 0.5463, 2.6039, 0.0, 1.6681]), rawPrediction=DenseVector([1.8451, -1.8451]), probability=DenseVector([0.8636, 0.1364]), prediction=0.0)"
      ]
     },
     "execution_count": 11,
     "metadata": {},
     "output_type": "execute_result"
    }
   ],
   "source": [
    "df_lr_pred = cv_lrModel.transform(obd_test_data)\n",
    "df_lr_pred.first()"
   ]
  },
  {
   "cell_type": "code",
   "execution_count": 12,
   "metadata": {},
   "outputs": [
    {
     "name": "stdout",
     "output_type": "stream",
     "text": [
      "DataFrame[probability: string, label: double]\n"
     ]
    }
   ],
   "source": [
    "#scoreAndLabels = obd_test_predict.select((\"probability\",\"label\"))\n",
    "#print(scoreAndLabels.first())\n",
    "# Compute raw scores on the test set\n",
    "# predictionAndLabels = obd_test_data.map(lambda lp: (float(cv_lrModel.transform(lp.scaledFeatures), lp.label)))\n",
    "\n",
    "#predictionAndLabels = obd_test_predict.select(\"probability\",\"label\").rdd\n",
    "#predictionAndLabels.collect()[:5]\n",
    "#probabilityPD = obd_test_predict.select(\"probability\").toPandas()\n",
    "\n",
    "\n",
    "\n",
    "split1_udf = udf(lambda value: np.float(value[0]))\n",
    "split2_udf = udf(lambda value: np.float(value[1]))\n",
    "\n",
    "probabilityAndLabelsDF = df_lr_pred.select(split2_udf('probability').alias(\"probability\"),\"label\")\n",
    "#print(probabilityAndLabelsDF.describe())\n",
    "print(probabilityAndLabelsDF)\n",
    "\n"
   ]
  },
  {
   "cell_type": "code",
   "execution_count": 13,
   "metadata": {},
   "outputs": [
    {
     "name": "stdout",
     "output_type": "stream",
     "text": [
      "+-----+-----+\n",
      "|label|count|\n",
      "+-----+-----+\n",
      "|  0.0|34833|\n",
      "|  1.0|25600|\n",
      "+-----+-----+\n",
      "\n"
     ]
    }
   ],
   "source": [
    "probabilityAndLabelsDF.groupBy('label').count().show()"
   ]
  },
  {
   "cell_type": "code",
   "execution_count": 14,
   "metadata": {
    "collapsed": true
   },
   "outputs": [],
   "source": [
    "#print(probabilityAndLabelsDF.first())"
   ]
  },
  {
   "cell_type": "code",
   "execution_count": 15,
   "metadata": {
    "collapsed": true
   },
   "outputs": [],
   "source": [
    "probabilityAndLabelPD = probabilityAndLabelsDF.toPandas()\n"
   ]
  },
  {
   "cell_type": "code",
   "execution_count": 16,
   "metadata": {
    "collapsed": true
   },
   "outputs": [],
   "source": [
    "probabilityAndLabelPD['probability'] = pd.to_numeric(probabilityAndLabelPD['probability'])\n",
    "\n",
    "#print(probabilityAndLabelPD['probability'])"
   ]
  },
  {
   "cell_type": "code",
   "execution_count": 17,
   "metadata": {
    "collapsed": true
   },
   "outputs": [],
   "source": [
    "fpr_lr, tpr_lr, _ = metrics.roc_curve(probabilityAndLabelPD['label'].as_matrix(),\n",
    "                                        probabilityAndLabelPD['probability'].as_matrix())\n",
    "#print(fpr)\n",
    "\n",
    "roc_auc_lr = metrics.auc(fpr_lr,tpr_lr)"
   ]
  },
  {
   "cell_type": "code",
   "execution_count": 18,
   "metadata": {
    "collapsed": true
   },
   "outputs": [],
   "source": [
    "# Decision Tree example\n",
    "\n",
    "dt = DecisionTreeClassifier(featuresCol=\"scaledFeatures\", labelCol=\"label\", seed=seedParam)\n",
    "\n",
    "dt_pipeline = Pipeline(stages=[assembler, scaler, dt])\n",
    "\n",
    "\n",
    "dt_paramGrid = ParamGridBuilder()\\\n",
    "    .addGrid(dt.maxDepth, [3, 4, 5])\\\n",
    "    .addGrid(dt.maxBins, [8, 16, 32])\\\n",
    "    .build()\n",
    "\n",
    "cv_dt = CrossValidator(estimator=dt_pipeline,\n",
    "                            estimatorParamMaps=dt_paramGrid,\n",
    "                           evaluator=BinaryClassificationEvaluator(),\n",
    "                           numFolds=kfold)\n"
   ]
  },
  {
   "cell_type": "code",
   "execution_count": 19,
   "metadata": {},
   "outputs": [
    {
     "data": {
      "text/plain": [
       "StructType(List(StructField(trialid,IntegerType,true),StructField(obsnum,IntegerType,true),StructField(label,DoubleType,true),StructField(P1,DoubleType,true),StructField(P2,DoubleType,true),StructField(P3,IntegerType,true),StructField(P4,DoubleType,true),StructField(P5,DoubleType,true),StructField(P6,IntegerType,true),StructField(P7,DoubleType,true),StructField(P8,IntegerType,true),StructField(E1,DoubleType,true),StructField(E2,DoubleType,true),StructField(E3,IntegerType,true),StructField(E4,IntegerType,true),StructField(E5,DoubleType,true),StructField(E6,IntegerType,true),StructField(E7,IntegerType,true),StructField(E8,IntegerType,true),StructField(E9,IntegerType,true),StructField(E10,IntegerType,true),StructField(E11,DoubleType,true),StructField(V1,DoubleType,true),StructField(V2,DoubleType,true),StructField(V3,IntegerType,true),StructField(V4,DoubleType,true),StructField(V5,IntegerType,true),StructField(V6,IntegerType,true),StructField(V7,IntegerType,true),StructField(V8,DoubleType,true),StructField(V9,IntegerType,true),StructField(V10,IntegerType,true),StructField(V11,DoubleType,true)))"
      ]
     },
     "execution_count": 19,
     "metadata": {},
     "output_type": "execute_result"
    }
   ],
   "source": [
    "df_train.schema"
   ]
  },
  {
   "cell_type": "code",
   "execution_count": 20,
   "metadata": {},
   "outputs": [
    {
     "name": "stdout",
     "output_type": "stream",
     "text": [
      "Train Decision Tree with CV.\n",
      "done in 228.372s\n"
     ]
    }
   ],
   "source": [
    "print(\"Train Decision Tree with CV.\")\n",
    "t0 = time()\n",
    "\n",
    "cv_dtModel = cv_dt.fit(df_train)\n",
    "print(\"done in %0.3fs\" % (time() - t0))"
   ]
  },
  {
   "cell_type": "code",
   "execution_count": 21,
   "metadata": {
    "collapsed": true
   },
   "outputs": [],
   "source": [
    "df_dt_pred = cv_dtModel.transform(obd_test_data)"
   ]
  },
  {
   "cell_type": "code",
   "execution_count": 22,
   "metadata": {
    "collapsed": true
   },
   "outputs": [],
   "source": [
    "probabilityAndLabelsDF = df_dt_pred.select(split2_udf('probability').alias(\"probability\"),\"label\")"
   ]
  },
  {
   "cell_type": "code",
   "execution_count": 23,
   "metadata": {
    "collapsed": true
   },
   "outputs": [],
   "source": [
    "probabilityAndLabelPD = probabilityAndLabelsDF.toPandas()\n",
    "probabilityAndLabelPD['probability'] = pd.to_numeric(probabilityAndLabelPD['probability'])"
   ]
  },
  {
   "cell_type": "code",
   "execution_count": 24,
   "metadata": {
    "collapsed": true
   },
   "outputs": [],
   "source": [
    "fpr_dt, tpr_dt, _ = metrics.roc_curve(probabilityAndLabelPD['label'].as_matrix(),\n",
    "                                        probabilityAndLabelPD['probability'].as_matrix())\n",
    "#print(fpr)\n",
    "\n",
    "roc_auc_dt = metrics.auc(fpr_dt,tpr_dt)"
   ]
  },
  {
   "cell_type": "code",
   "execution_count": 25,
   "metadata": {
    "collapsed": true
   },
   "outputs": [],
   "source": [
    "# Random Forest example\n",
    "\n",
    "rf = RandomForestClassifier(featuresCol=\"scaledFeatures\", labelCol=\"label\", seed = seedParam)\n",
    "\n",
    "rf_pipeline = Pipeline(stages=[assembler, scaler, rf])\n",
    "\n",
    "\n",
    "rf_paramGrid = ParamGridBuilder()\\\n",
    "    .addGrid(rf.numTrees, [20, 40])\\\n",
    "    .addGrid(rf.maxBins, [8, 16, 32])\\\n",
    "    .addGrid(rf.maxDepth, [3, 4, 5])\\\n",
    "    .build()\n",
    "\n",
    "cv_rf = CrossValidator(estimator=rf_pipeline,\n",
    "                            estimatorParamMaps=rf_paramGrid,\n",
    "                           evaluator=BinaryClassificationEvaluator(),\n",
    "                           numFolds=kfold)"
   ]
  },
  {
   "cell_type": "code",
   "execution_count": 26,
   "metadata": {},
   "outputs": [
    {
     "name": "stdout",
     "output_type": "stream",
     "text": [
      "Train Random Forest with CV.\n",
      "done in 1091.328s\n"
     ]
    }
   ],
   "source": [
    "print(\"Train Random Forest with CV.\")\n",
    "t0 = time()\n",
    "\n",
    "cv_rfModel = cv_rf.fit(df_train)\n",
    "print(\"done in %0.3fs\" % (time() - t0))"
   ]
  },
  {
   "cell_type": "code",
   "execution_count": 27,
   "metadata": {
    "collapsed": true
   },
   "outputs": [],
   "source": [
    "df_rf_pred = cv_rfModel.transform(obd_test_data)"
   ]
  },
  {
   "cell_type": "code",
   "execution_count": 28,
   "metadata": {
    "collapsed": true
   },
   "outputs": [],
   "source": [
    "probabilityAndLabelsDF = df_rf_pred.select(split2_udf('probability').alias(\"probability\"),\"label\")"
   ]
  },
  {
   "cell_type": "code",
   "execution_count": 29,
   "metadata": {
    "collapsed": true
   },
   "outputs": [],
   "source": [
    "probabilityAndLabelPD = probabilityAndLabelsDF.toPandas()\n",
    "probabilityAndLabelPD['probability'] = pd.to_numeric(probabilityAndLabelPD['probability'])"
   ]
  },
  {
   "cell_type": "code",
   "execution_count": 30,
   "metadata": {
    "collapsed": true
   },
   "outputs": [],
   "source": [
    "fpr_rf, tpr_rf, _ = metrics.roc_curve(probabilityAndLabelPD['label'].as_matrix(),\n",
    "                                        probabilityAndLabelPD['probability'].as_matrix())\n",
    "#print(fpr)\n",
    "\n",
    "roc_auc_rf = metrics.auc(fpr_rf,tpr_rf)"
   ]
  },
  {
   "cell_type": "code",
   "execution_count": 31,
   "metadata": {},
   "outputs": [
    {
     "data": {
      "image/png": "[encoded data removed]",
      "text/plain": [
       "<matplotlib.figure.Figure at 0x661e090>"
      ]
     },
     "metadata": {},
     "output_type": "display_data"
    }
   ],
   "source": [
    "plt.figure()\n",
    "lw = 2\n",
    "plt.plot(fpr_lr, tpr_lr, color='darkorange',\n",
    "         lw=lw, label='ROC curve Logistic Reg (area = %0.2f)' % roc_auc_lr)\n",
    "plt.plot(fpr_dt, tpr_dt, color='darkgreen',\n",
    "         lw=lw, label='ROC curve Decision Tree (area = %0.2f)' % roc_auc_dt)\n",
    "plt.plot(fpr_rf, tpr_rf, color='red',\n",
    "         lw=lw, label='ROC curve Random Forest (area = %0.2f)' % roc_auc_rf)\n",
    "plt.plot([0, 1], [0, 1], color='navy', lw=lw, linestyle='--')\n",
    "plt.xlim([0.0, 1.0])\n",
    "plt.ylim([0.0, 1.05])\n",
    "plt.xlabel('False Positive Rate')\n",
    "plt.ylabel('True Positive Rate')\n",
    "plt.title('Receiver operating characteristic example')\n",
    "plt.legend(loc=\"lower right\")\n",
    "plt.show()\n"
   ]
  },
  {
   "cell_type": "code",
   "execution_count": 32,
   "metadata": {},
   "outputs": [
    {
     "data": {
      "text/plain": [
       "<bound method DataFrame.describe of DataFrame[TrialID: int, ObsNum: int, label: double, P1: double, P2: double, P3: int, P4: double, P5: double, P6: int, P7: double, P8: int, E1: double, E2: double, E3: int, E4: int, E5: double, E6: int, E7: int, E8: int, E9: int, E10: int, E11: double, V1: double, V2: double, V3: int, V4: double, V5: int, V6: int, V7: int, V8: double, V9: int, V10: int, V11: double, features: vector, scaledFeatures: vector, rawPrediction: vector, probability: vector, prediction: double]>"
      ]
     },
     "execution_count": 32,
     "metadata": {},
     "output_type": "execute_result"
    }
   ],
   "source": [
    "df_rf_pred.describe"
   ]
  },
  {
   "cell_type": "code",
   "execution_count": 33,
   "metadata": {
    "collapsed": true
   },
   "outputs": [],
   "source": [
    "pd_rd_data = df_rf_pred.select(['TrialID', 'ObsNum','P1', 'P2', 'P3', 'P5', 'P6', 'P7', 'E1',\n",
    "               'E3', 'E4', 'E5', 'E6', 'E7', 'E8', 'E10', 'E11', 'V1', \n",
    "               'V2', 'V3', 'V4', 'V5', 'V8', 'V11']).toPandas()"
   ]
  },
  {
   "cell_type": "code",
   "execution_count": 34,
   "metadata": {},
   "outputs": [
    {
     "data": {
      "text/html": [
       "<div>\n",
       "<style>\n",
       "    .dataframe thead tr:only-child th {\n",
       "        text-align: right;\n",
       "    }\n",
       "\n",
       "    .dataframe thead th {\n",
       "        text-align: left;\n",
       "    }\n",
       "\n",
       "    .dataframe tbody tr th {\n",
       "        vertical-align: top;\n",
       "    }\n",
       "</style>\n",
       "<table border=\"1\" class=\"dataframe\">\n",
       "  <thead>\n",
       "    <tr style=\"text-align: right;\">\n",
       "      <th></th>\n",
       "      <th>TrialID</th>\n",
       "      <th>ObsNum</th>\n",
       "      <th>P1</th>\n",
       "      <th>P2</th>\n",
       "      <th>P3</th>\n",
       "      <th>P5</th>\n",
       "      <th>P6</th>\n",
       "      <th>P7</th>\n",
       "      <th>E1</th>\n",
       "      <th>E3</th>\n",
       "      <th>...</th>\n",
       "      <th>E8</th>\n",
       "      <th>E10</th>\n",
       "      <th>E11</th>\n",
       "      <th>V1</th>\n",
       "      <th>V2</th>\n",
       "      <th>V3</th>\n",
       "      <th>V4</th>\n",
       "      <th>V5</th>\n",
       "      <th>V8</th>\n",
       "      <th>V11</th>\n",
       "    </tr>\n",
       "  </thead>\n",
       "  <tbody>\n",
       "    <tr>\n",
       "      <th>0</th>\n",
       "      <td>429</td>\n",
       "      <td>591</td>\n",
       "      <td>31.9833</td>\n",
       "      <td>10.96020</td>\n",
       "      <td>852</td>\n",
       "      <td>0.097299</td>\n",
       "      <td>844</td>\n",
       "      <td>71.0900</td>\n",
       "      <td>0.018</td>\n",
       "      <td>0</td>\n",
       "      <td>...</td>\n",
       "      <td>0</td>\n",
       "      <td>41</td>\n",
       "      <td>23.6</td>\n",
       "      <td>0.00</td>\n",
       "      <td>0.175</td>\n",
       "      <td>496</td>\n",
       "      <td>34.51870</td>\n",
       "      <td>1</td>\n",
       "      <td>0.0</td>\n",
       "      <td>16.61020</td>\n",
       "    </tr>\n",
       "    <tr>\n",
       "      <th>1</th>\n",
       "      <td>309</td>\n",
       "      <td>453</td>\n",
       "      <td>29.0343</td>\n",
       "      <td>13.79750</td>\n",
       "      <td>1948</td>\n",
       "      <td>0.137516</td>\n",
       "      <td>1100</td>\n",
       "      <td>54.5455</td>\n",
       "      <td>29.171</td>\n",
       "      <td>0</td>\n",
       "      <td>...</td>\n",
       "      <td>3</td>\n",
       "      <td>63</td>\n",
       "      <td>0.0</td>\n",
       "      <td>102.16</td>\n",
       "      <td>0.070</td>\n",
       "      <td>767</td>\n",
       "      <td>0.00000</td>\n",
       "      <td>0</td>\n",
       "      <td>13.4</td>\n",
       "      <td>7.19820</td>\n",
       "    </tr>\n",
       "    <tr>\n",
       "      <th>2</th>\n",
       "      <td>228</td>\n",
       "      <td>176</td>\n",
       "      <td>30.8788</td>\n",
       "      <td>9.29190</td>\n",
       "      <td>1200</td>\n",
       "      <td>0.293195</td>\n",
       "      <td>776</td>\n",
       "      <td>77.3196</td>\n",
       "      <td>0.000</td>\n",
       "      <td>0</td>\n",
       "      <td>...</td>\n",
       "      <td>0</td>\n",
       "      <td>72</td>\n",
       "      <td>0.0</td>\n",
       "      <td>0.00</td>\n",
       "      <td>0.000</td>\n",
       "      <td>240</td>\n",
       "      <td>10.50000</td>\n",
       "      <td>0</td>\n",
       "      <td>0.0</td>\n",
       "      <td>16.17160</td>\n",
       "    </tr>\n",
       "    <tr>\n",
       "      <th>3</th>\n",
       "      <td>280</td>\n",
       "      <td>335</td>\n",
       "      <td>32.5191</td>\n",
       "      <td>13.36230</td>\n",
       "      <td>1728</td>\n",
       "      <td>1.052130</td>\n",
       "      <td>876</td>\n",
       "      <td>68.4932</td>\n",
       "      <td>28.344</td>\n",
       "      <td>0</td>\n",
       "      <td>...</td>\n",
       "      <td>0</td>\n",
       "      <td>43</td>\n",
       "      <td>0.0</td>\n",
       "      <td>99.20</td>\n",
       "      <td>0.175</td>\n",
       "      <td>496</td>\n",
       "      <td>3.01875</td>\n",
       "      <td>0</td>\n",
       "      <td>14.3</td>\n",
       "      <td>4.53946</td>\n",
       "    </tr>\n",
       "    <tr>\n",
       "      <th>4</th>\n",
       "      <td>150</td>\n",
       "      <td>173</td>\n",
       "      <td>37.5742</td>\n",
       "      <td>8.20535</td>\n",
       "      <td>992</td>\n",
       "      <td>0.096002</td>\n",
       "      <td>880</td>\n",
       "      <td>68.1818</td>\n",
       "      <td>31.700</td>\n",
       "      <td>0</td>\n",
       "      <td>...</td>\n",
       "      <td>2</td>\n",
       "      <td>63</td>\n",
       "      <td>0.0</td>\n",
       "      <td>114.88</td>\n",
       "      <td>-0.455</td>\n",
       "      <td>255</td>\n",
       "      <td>0.00000</td>\n",
       "      <td>0</td>\n",
       "      <td>31.9</td>\n",
       "      <td>8.56671</td>\n",
       "    </tr>\n",
       "  </tbody>\n",
       "</table>\n",
       "<p>5 rows × 24 columns</p>\n",
       "</div>"
      ],
      "text/plain": [
       "   TrialID  ObsNum       P1        P2    P3        P5    P6       P7      E1  \\\n",
       "0      429     591  31.9833  10.96020   852  0.097299   844  71.0900   0.018   \n",
       "1      309     453  29.0343  13.79750  1948  0.137516  1100  54.5455  29.171   \n",
       "2      228     176  30.8788   9.29190  1200  0.293195   776  77.3196   0.000   \n",
       "3      280     335  32.5191  13.36230  1728  1.052130   876  68.4932  28.344   \n",
       "4      150     173  37.5742   8.20535   992  0.096002   880  68.1818  31.700   \n",
       "\n",
       "   E3    ...     E8  E10   E11      V1     V2   V3        V4  V5    V8  \\\n",
       "0   0    ...      0   41  23.6    0.00  0.175  496  34.51870   1   0.0   \n",
       "1   0    ...      3   63   0.0  102.16  0.070  767   0.00000   0  13.4   \n",
       "2   0    ...      0   72   0.0    0.00  0.000  240  10.50000   0   0.0   \n",
       "3   0    ...      0   43   0.0   99.20  0.175  496   3.01875   0  14.3   \n",
       "4   0    ...      2   63   0.0  114.88 -0.455  255   0.00000   0  31.9   \n",
       "\n",
       "        V11  \n",
       "0  16.61020  \n",
       "1   7.19820  \n",
       "2  16.17160  \n",
       "3   4.53946  \n",
       "4   8.56671  \n",
       "\n",
       "[5 rows x 24 columns]"
      ]
     },
     "execution_count": 34,
     "metadata": {},
     "output_type": "execute_result"
    }
   ],
   "source": [
    "pd_rd_data.head()"
   ]
  },
  {
   "cell_type": "code",
   "execution_count": 35,
   "metadata": {
    "collapsed": true
   },
   "outputs": [],
   "source": [
    "pd_rd_data['prediction'] = pd.Series((1-probabilityAndLabelPD['probability'].as_matrix()), index=pd_rd_data.index)"
   ]
  },
  {
   "cell_type": "code",
   "execution_count": 36,
   "metadata": {},
   "outputs": [
    {
     "data": {
      "text/html": [
       "<div>\n",
       "<style>\n",
       "    .dataframe thead tr:only-child th {\n",
       "        text-align: right;\n",
       "    }\n",
       "\n",
       "    .dataframe thead th {\n",
       "        text-align: left;\n",
       "    }\n",
       "\n",
       "    .dataframe tbody tr th {\n",
       "        vertical-align: top;\n",
       "    }\n",
       "</style>\n",
       "<table border=\"1\" class=\"dataframe\">\n",
       "  <thead>\n",
       "    <tr style=\"text-align: right;\">\n",
       "      <th></th>\n",
       "      <th>TrialID</th>\n",
       "      <th>ObsNum</th>\n",
       "      <th>P1</th>\n",
       "      <th>P2</th>\n",
       "      <th>P3</th>\n",
       "      <th>P5</th>\n",
       "      <th>P6</th>\n",
       "      <th>P7</th>\n",
       "      <th>E1</th>\n",
       "      <th>E3</th>\n",
       "      <th>...</th>\n",
       "      <th>E10</th>\n",
       "      <th>E11</th>\n",
       "      <th>V1</th>\n",
       "      <th>V2</th>\n",
       "      <th>V3</th>\n",
       "      <th>V4</th>\n",
       "      <th>V5</th>\n",
       "      <th>V8</th>\n",
       "      <th>V11</th>\n",
       "      <th>prediction</th>\n",
       "    </tr>\n",
       "  </thead>\n",
       "  <tbody>\n",
       "    <tr>\n",
       "      <th>0</th>\n",
       "      <td>429</td>\n",
       "      <td>591</td>\n",
       "      <td>31.9833</td>\n",
       "      <td>10.96020</td>\n",
       "      <td>852</td>\n",
       "      <td>0.097299</td>\n",
       "      <td>844</td>\n",
       "      <td>71.0900</td>\n",
       "      <td>0.018</td>\n",
       "      <td>0</td>\n",
       "      <td>...</td>\n",
       "      <td>41</td>\n",
       "      <td>23.6</td>\n",
       "      <td>0.00</td>\n",
       "      <td>0.175</td>\n",
       "      <td>496</td>\n",
       "      <td>34.51870</td>\n",
       "      <td>1</td>\n",
       "      <td>0.0</td>\n",
       "      <td>16.61020</td>\n",
       "      <td>0.856818</td>\n",
       "    </tr>\n",
       "    <tr>\n",
       "      <th>1</th>\n",
       "      <td>309</td>\n",
       "      <td>453</td>\n",
       "      <td>29.0343</td>\n",
       "      <td>13.79750</td>\n",
       "      <td>1948</td>\n",
       "      <td>0.137516</td>\n",
       "      <td>1100</td>\n",
       "      <td>54.5455</td>\n",
       "      <td>29.171</td>\n",
       "      <td>0</td>\n",
       "      <td>...</td>\n",
       "      <td>63</td>\n",
       "      <td>0.0</td>\n",
       "      <td>102.16</td>\n",
       "      <td>0.070</td>\n",
       "      <td>767</td>\n",
       "      <td>0.00000</td>\n",
       "      <td>0</td>\n",
       "      <td>13.4</td>\n",
       "      <td>7.19820</td>\n",
       "      <td>0.328541</td>\n",
       "    </tr>\n",
       "    <tr>\n",
       "      <th>2</th>\n",
       "      <td>228</td>\n",
       "      <td>176</td>\n",
       "      <td>30.8788</td>\n",
       "      <td>9.29190</td>\n",
       "      <td>1200</td>\n",
       "      <td>0.293195</td>\n",
       "      <td>776</td>\n",
       "      <td>77.3196</td>\n",
       "      <td>0.000</td>\n",
       "      <td>0</td>\n",
       "      <td>...</td>\n",
       "      <td>72</td>\n",
       "      <td>0.0</td>\n",
       "      <td>0.00</td>\n",
       "      <td>0.000</td>\n",
       "      <td>240</td>\n",
       "      <td>10.50000</td>\n",
       "      <td>0</td>\n",
       "      <td>0.0</td>\n",
       "      <td>16.17160</td>\n",
       "      <td>0.912340</td>\n",
       "    </tr>\n",
       "    <tr>\n",
       "      <th>3</th>\n",
       "      <td>280</td>\n",
       "      <td>335</td>\n",
       "      <td>32.5191</td>\n",
       "      <td>13.36230</td>\n",
       "      <td>1728</td>\n",
       "      <td>1.052130</td>\n",
       "      <td>876</td>\n",
       "      <td>68.4932</td>\n",
       "      <td>28.344</td>\n",
       "      <td>0</td>\n",
       "      <td>...</td>\n",
       "      <td>43</td>\n",
       "      <td>0.0</td>\n",
       "      <td>99.20</td>\n",
       "      <td>0.175</td>\n",
       "      <td>496</td>\n",
       "      <td>3.01875</td>\n",
       "      <td>0</td>\n",
       "      <td>14.3</td>\n",
       "      <td>4.53946</td>\n",
       "      <td>0.214469</td>\n",
       "    </tr>\n",
       "    <tr>\n",
       "      <th>4</th>\n",
       "      <td>150</td>\n",
       "      <td>173</td>\n",
       "      <td>37.5742</td>\n",
       "      <td>8.20535</td>\n",
       "      <td>992</td>\n",
       "      <td>0.096002</td>\n",
       "      <td>880</td>\n",
       "      <td>68.1818</td>\n",
       "      <td>31.700</td>\n",
       "      <td>0</td>\n",
       "      <td>...</td>\n",
       "      <td>63</td>\n",
       "      <td>0.0</td>\n",
       "      <td>114.88</td>\n",
       "      <td>-0.455</td>\n",
       "      <td>255</td>\n",
       "      <td>0.00000</td>\n",
       "      <td>0</td>\n",
       "      <td>31.9</td>\n",
       "      <td>8.56671</td>\n",
       "      <td>0.507967</td>\n",
       "    </tr>\n",
       "  </tbody>\n",
       "</table>\n",
       "<p>5 rows × 25 columns</p>\n",
       "</div>"
      ],
      "text/plain": [
       "   TrialID  ObsNum       P1        P2    P3        P5    P6       P7      E1  \\\n",
       "0      429     591  31.9833  10.96020   852  0.097299   844  71.0900   0.018   \n",
       "1      309     453  29.0343  13.79750  1948  0.137516  1100  54.5455  29.171   \n",
       "2      228     176  30.8788   9.29190  1200  0.293195   776  77.3196   0.000   \n",
       "3      280     335  32.5191  13.36230  1728  1.052130   876  68.4932  28.344   \n",
       "4      150     173  37.5742   8.20535   992  0.096002   880  68.1818  31.700   \n",
       "\n",
       "   E3     ...      E10   E11      V1     V2   V3        V4  V5    V8  \\\n",
       "0   0     ...       41  23.6    0.00  0.175  496  34.51870   1   0.0   \n",
       "1   0     ...       63   0.0  102.16  0.070  767   0.00000   0  13.4   \n",
       "2   0     ...       72   0.0    0.00  0.000  240  10.50000   0   0.0   \n",
       "3   0     ...       43   0.0   99.20  0.175  496   3.01875   0  14.3   \n",
       "4   0     ...       63   0.0  114.88 -0.455  255   0.00000   0  31.9   \n",
       "\n",
       "        V11  prediction  \n",
       "0  16.61020    0.856818  \n",
       "1   7.19820    0.328541  \n",
       "2  16.17160    0.912340  \n",
       "3   4.53946    0.214469  \n",
       "4   8.56671    0.507967  \n",
       "\n",
       "[5 rows x 25 columns]"
      ]
     },
     "execution_count": 36,
     "metadata": {},
     "output_type": "execute_result"
    }
   ],
   "source": [
    "pd_rd_data.head()"
   ]
  },
  {
   "cell_type": "code",
   "execution_count": 37,
   "metadata": {
    "collapsed": true
   },
   "outputs": [],
   "source": [
    "pd_rd_data.to_csv('prediction.csv')"
   ]
  },
  {
   "cell_type": "code",
   "execution_count": 38,
   "metadata": {
    "collapsed": true
   },
   "outputs": [],
   "source": [
    "fpr_rf, tpr_rf, threshold = metrics.roc_curve(probabilityAndLabelPD['label'].as_matrix(),\n",
    "                                        probabilityAndLabelPD['probability'].as_matrix())"
   ]
  },
  {
   "cell_type": "code",
   "execution_count": 39,
   "metadata": {},
   "outputs": [
    {
     "data": {
      "text/plain": [
       "array([ 0.99425604,  0.99406136,  0.99400736, ...,  0.08176263,\n",
       "        0.07918116,  0.07744958])"
      ]
     },
     "execution_count": 39,
     "metadata": {},
     "output_type": "execute_result"
    }
   ],
   "source": [
    "threshold"
   ]
  },
  {
   "cell_type": "code",
   "execution_count": 40,
   "metadata": {},
   "outputs": [
    {
     "data": {
      "image/png": "[encoded data removed]",
      "text/plain": [
       "<matplotlib.figure.Figure at 0x666f810>"
      ]
     },
     "metadata": {},
     "output_type": "display_data"
    }
   ],
   "source": [
    "plt.figure()\n",
    "lw = 2\n",
    "plt.plot(fpr_rf, tpr_rf, color='red',\n",
    "         lw=lw, label='ROC curve Random Forest (area = %0.2f)' % roc_auc_rf)\n",
    "plt.plot([0, 1], [0, 1], color='navy', lw=lw, linestyle='--')\n",
    "plt.xlim([0.0, 1.0])\n",
    "plt.ylim([0.0, 1.05])\n",
    "plt.xlabel('False Positive Rate')\n",
    "plt.ylabel('True Positive Rate')\n",
    "\n",
    "for i in range(0,len(threshold)/1000):\n",
    "    pos = i*1000\n",
    "    if pos>len(threshold): pos=len(threshold)\n",
    "    plt.annotate('t =%1.2f' % threshold[pos], xy = (fpr_rf[pos], tpr_rf[pos]), textcoords='data' )\n",
    "    \n",
    "plt.title('Receiver operating characteristic example')\n",
    "plt.legend(loc=\"lower right\")\n",
    "plt.show()\n"
   ]
  },
  {
   "cell_type": "code",
   "execution_count": 41,
   "metadata": {
    "collapsed": true
   },
   "outputs": [],
   "source": [
    "cv_rfModel.bestModel.write().overwrite().save(\"hdfs://ussm-mag-hdpc01.lab.opentext.com/opentext/models/odb\")"
   ]
  },
  {
   "cell_type": "code",
   "execution_count": null,
   "metadata": {
    "collapsed": true
   },
   "outputs": [],
   "source": []
  }
 ],
 "metadata": {
  "kernelspec": {
   "display_name": "PySpark 2",
   "language": "python",
   "name": "pyspark2"
  },
  "language_info": {
   "codemirror_mode": {
    "name": "ipython",
    "version": 2
   },
   "file_extension": ".py",
   "mimetype": "text/x-python",
   "name": "python",
   "nbconvert_exporter": "python",
   "pygments_lexer": "ipython2",
   "version": "2.7.5"
  }
 },
 "nbformat": 4,
 "nbformat_minor": 2
}
